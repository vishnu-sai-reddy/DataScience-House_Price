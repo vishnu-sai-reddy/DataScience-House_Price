{
 "cells": [
  {
   "cell_type": "code",
   "execution_count": 5,
   "metadata": {},
   "outputs": [
    {
     "data": {
      "text/plain": [
       "dtype('int64')"
      ]
     },
     "execution_count": 5,
     "metadata": {},
     "output_type": "execute_result"
    },
    {
     "data": {
      "image/png": "[encoded data removed]",
      "text/plain": [
       "<Figure size 432x288 with 1 Axes>"
      ]
     },
     "metadata": {
      "needs_background": "light"
     },
     "output_type": "display_data"
    }
   ],
   "source": [
    "import pandas as pd  #data manipulation library \n",
    "import matplotlib.pyplot as plt #data visualisation library\n",
    "import seaborn as sns #data visualisation library - best for visualisation\n",
    "\n",
    "house_price_df=pd.read_csv('1_housepriceCSV.csv')\n",
    "house_price_df\n",
    "house_price_df.shape #gives count of (rows,columns )\n",
    "house_price_df.columns # gives column names. Every column is a series in pandas.\n",
    "house_price_df[['OverallCond','MSSubClass']] #when to show more than one column\n",
    "plt.hist(house_price_df['SalePrice'],bins=100) #to plot histogram with bins\n",
    "plt.hist(house_price_df['SalePrice'])  #to plot histogram without bins\n",
    "sns.distplot(house_price_df['SalePrice'],bins=1000)#to plot distplot with bins\n",
    "sns.distplot(house_price_df['SalePrice'])          #to plot distplot without bins\n",
    "sns.boxplot(house_price_df['SalePrice'],orient='v')#boxplot with seaborn\n",
    "#plt.boxplot(house_price_df['SalePrice'],orient='v')Not wokoing \n",
    "plt.boxplot(house_price_df['SalePrice']) #boxplot with matplotlib\n",
    "house_price_df['SalePrice'].describe()   #all details of mean,median ,mode etc\n",
    "house_price_df.dtypes                    #data types of columns\n",
    "house_price_df['SalePrice'].dtypes       #data types of particular column\n",
    "\n",
    "\n",
    "# house_price_df['BsmtHalfBath'].dtypes "
   ]
  },
  {
   "cell_type": "code",
   "execution_count": 4,
   "metadata": {
    "collapsed": true
   },
   "outputs": [
    {
     "data": {
      "text/plain": [
       "['MSZoning',\n",
       " 'Street',\n",
       " 'LotShape',\n",
       " 'LandContour',\n",
       " 'Utilities',\n",
       " 'LotConfig',\n",
       " 'LandSlope',\n",
       " 'Neighborhood',\n",
       " 'Condition1',\n",
       " 'Condition2',\n",
       " 'BldgType',\n",
       " 'HouseStyle',\n",
       " 'RoofStyle',\n",
       " 'RoofMatl',\n",
       " 'Exterior1st',\n",
       " 'Exterior2nd',\n",
       " 'MasVnrType',\n",
       " 'ExterQual',\n",
       " 'ExterCond',\n",
       " 'Foundation',\n",
       " 'BsmtQual',\n",
       " 'BsmtCond',\n",
       " 'BsmtExposure',\n",
       " 'BsmtFinType1',\n",
       " 'BsmtFinType2',\n",
       " 'Heating',\n",
       " 'HeatingQC',\n",
       " 'CentralAir',\n",
       " 'Electrical',\n",
       " 'KitchenQual',\n",
       " 'Functional',\n",
       " 'FireplaceQu',\n",
       " 'GarageType',\n",
       " 'GarageFinish',\n",
       " 'GarageQual',\n",
       " 'GarageCond',\n",
       " 'PavedDrive',\n",
       " 'SaleType',\n",
       " 'SaleCondition']"
      ]
     },
     "execution_count": 4,
     "metadata": {},
     "output_type": "execute_result"
    }
   ],
   "source": [
    "#Assignement: to print column names which have int and float \n",
    "\n",
    "new_list_columns_int_float=[i for i in house_price_df.columns if house_price_df[i].dtype == 'int64' \n",
    "                                                              or house_price_df[i].dtype=='float64']\n",
    "new_list_columns_int_float\n",
    "\n",
    "\n",
    "#Creating a new data frame and adding the columns having int and float \n",
    "new_list_object=[i for i in house_price_df.columns if house_price_df[i].dtype == 'object']\n",
    "new_list_object\n",
    "\n",
    "\n"
   ]
  },
  {
   "cell_type": "code",
   "execution_count": 6,
   "metadata": {},
   "outputs": [
    {
     "data": {
      "text/plain": [
       "['PoolQC', 'MiscFeature', 'Alley', 'Fence']"
      ]
     },
     "execution_count": 6,
     "metadata": {},
     "output_type": "execute_result"
    }
   ],
   "source": [
    "#To find missing values\n",
    "house_price_df.isnull().sum()\n",
    "#house_price_df['Alley'].isnull().sum()\n",
    "\n",
    "\n",
    "missing_values_dataFrame = pd.DataFrame({'Column_Name': house_price_df.columns,\n",
    "                                         'Missing_value_count':house_price_df.isnull().sum(),\n",
    "                                         'Missing_value_perecentage':house_price_df.isnull().sum()/house_price_df.shape[0]*100\n",
    "                                        })\n",
    "missing_values_dataFrame=missing_values_dataFrame.sort_values(by='Missing_value_perecentage',ascending = False)\n",
    "\n",
    "cols_to_drop=list(missing_values_dataFrame[missing_values_dataFrame['Missing_value_perecentage']>50]['Column_Name'])\n",
    "cols_to_drop\n",
    "\n",
    "#missing_values_dataFrame['Missing_value_perecentage']>50   (gives true or false for each column)\n",
    "#missing_values_dataFrame[missing_values_dataFrame['Missing_value_perecentage']>50]['Column_Name']  (gives column name which are having missing value names greater than 50)\n",
    "#list(missing_values_dataFrame[missing_values_dataFrame['Missing_value_perecentage']>50]['Column_Name']) (coverts into list)\n",
    "#house_price_df.drop(columns=['PoolQC'],inplace=True,axis=1)\n",
    "\n",
    "house_price_df.drop(columns=cols_to_drop,inplace=True)\n",
    "#house_price_df.columns\n",
    "house_price_df.shape\n",
    "house_price_df\n",
    "\n",
    "new_list_object=[i for i in house_price_df.columns if house_price_df[i].dtype == 'object']\n",
    "new_list_object\n",
    "\n",
    "new_list_columns_int_float=[i for i in house_price_df.columns if house_price_df[i].dtype == 'int64' \n",
    "                                                              or house_price_df[i].dtype=='float64']\n",
    "new_list_columns_int_float\n",
    "\n",
    "\n",
    "for i in new_list_columns_int_float:\n",
    "    house_price_df[i].fillna(house_price_df[i].mean(),inplace=True)\n",
    "    \n",
    "for i in new_list_object:\n",
    "    house_price_df[i].fillna(house_price_df[i].mode()[0],inplace=True)\n",
    "\n",
    "house_price_df.isnull().sum()\n",
    "\n",
    "\n"
   ]
  },
  {
   "cell_type": "code",
   "execution_count": 16,
   "metadata": {},
   "outputs": [
    {
     "data": {
      "text/plain": [
       "<matplotlib.axes._subplots.AxesSubplot at 0x17d729c65c8>"
      ]
     },
     "execution_count": 16,
     "metadata": {},
     "output_type": "execute_result"
    },
    {
     "data": {
      "image/png": "[encoded data removed]",
      "text/plain": [
       "<Figure size 432x288 with 1 Axes>"
      ]
     },
     "metadata": {
      "needs_background": "light"
     },
     "output_type": "display_data"
    }
   ],
   "source": [
    "#central limit theorem\n",
    "\n",
    "import pandas as pd\n",
    "import numpy as np\n",
    "import random\n",
    "\n",
    "np.random.seed(26)#to generate same values for different iterations\n",
    "population = pd.DataFrame()\n",
    "\n",
    "#create a column called values that is having 10000 random numbers drawn from uniform distribution and al will be b/w(0,1000)\n",
    "population['values'] = np.random.uniform(0,1000,size=10000)\n",
    "population['values']\n",
    "\n",
    "sampled_means=[]\n",
    "\n",
    "#for 10000 times\n",
    "for i in range(0,10000):\n",
    "    sampled_means.append(population['values'].sample(n=1000).mean()) #selecting 1000 samples and geting means for them.\n",
    "    \n",
    "#plt.hist(sampled_means,bins=100) #to plot histogram with bins\n",
    "pd.Series(sampled_means).hist(bins=100)\n",
    "\n"
   ]
  },
  {
   "cell_type": "code",
   "execution_count": 10,
   "metadata": {},
   "outputs": [
    {
     "data": {
      "text/plain": [
       "<matplotlib.axes._subplots.AxesSubplot at 0x17d72778f88>"
      ]
     },
     "execution_count": 10,
     "metadata": {},
     "output_type": "execute_result"
    },
    {
     "data": {
      "image/png": "[encoded data removed]",
      "text/plain": [
       "<Figure size 432x288 with 1 Axes>"
      ]
     },
     "metadata": {
      "needs_background": "light"
     },
     "output_type": "display_data"
    }
   ],
   "source": [
    "#Central limit theorem for house_price data with population as [Sales_price]\n",
    "house_price_poulation=house_price_df['SalePrice']\n",
    "\n",
    "house_price_means=[]\n",
    "\n",
    "#for 1460 times - because population for house_price_df['SalePrice'] is 1460\n",
    "for i in house_price_poulation :\n",
    "    house_price_means.append(house_price_poulation.sample(n=50).mean()) \n",
    "    #selecting 800 random samples and geting mean for them for 1460 times.\n",
    "    \n",
    "#plt.hist(house_price_means,bins=100)\n",
    "sns.distplot(house_price_means,bins=100)#to plot distplot with bins\n",
    "\n",
    "#pd.Series(house_price_means).hist(bins=80)\n"
   ]
  },
  {
   "cell_type": "code",
   "execution_count": 5,
   "metadata": {},
   "outputs": [
    {
     "data": {
      "text/plain": [
       "<matplotlib.axes._subplots.AxesSubplot at 0x2618f2d33c8>"
      ]
     },
     "execution_count": 5,
     "metadata": {},
     "output_type": "execute_result"
    },
    {
     "data": {
      "image/png": "[encoded data removed]",
      "text/plain": [
       "<Figure size 432x288 with 1 Axes>"
      ]
     },
     "metadata": {
      "needs_background": "light"
     },
     "output_type": "display_data"
    }
   ],
   "source": [
    "lot_area_population=house_price_df['LotArea']\n",
    "means=[]\n",
    "\n",
    "for i in lot_area_population:\n",
    "        means.append(lot_area_population.sample(n=800).mean()) \n",
    "\n",
    "#plt.hist(house_price_means,bins=100)\n",
    "sns.distplot(means,bins=100)#to plot distplot with bins\n",
    "\n",
    "#pd.Series(means).hist(bins=100)   "
   ]
  },
  {
   "cell_type": "code",
   "execution_count": 4,
   "metadata": {},
   "outputs": [
    {
     "data": {
      "text/plain": [
       "0       Pave\n",
       "1       Pave\n",
       "2       Pave\n",
       "3       Pave\n",
       "4       Pave\n",
       "        ... \n",
       "1455    Pave\n",
       "1456    Pave\n",
       "1457    Pave\n",
       "1458    Pave\n",
       "1459    Pave\n",
       "Name: Street, Length: 1460, dtype: object"
      ]
     },
     "execution_count": 4,
     "metadata": {},
     "output_type": "execute_result"
    }
   ],
   "source": []
  }
 ],
 "metadata": {
  "kernelspec": {
   "display_name": "Python 3",
   "language": "python",
   "name": "python3"
  },
  "language_info": {
   "codemirror_mode": {
    "name": "ipython",
    "version": 3
   },
   "file_extension": ".py",
   "mimetype": "text/x-python",
   "name": "python",
   "nbconvert_exporter": "python",
   "pygments_lexer": "ipython3",
   "version": "3.7.4"
  }
 },
 "nbformat": 4,
 "nbformat_minor": 2
}
